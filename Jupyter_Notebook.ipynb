{
 "cells": [
  {
   "cell_type": "markdown",
   "metadata": {},
   "source": [
    "<center>\n",
    "    <img src=\"https://cf-courses-data.s3.us.cloud-object-storage.appdomain.cloud/IBMDeveloperSkillsNetwork-DS0105EN-SkillsNetwork/labs/Module2/images/SN_web_lightmode.png\" width=\"300\" alt=\"cognitiveclass.ai logo\">\n",
    "</center>\n"
   ]
  },
  {
   "cell_type": "markdown",
   "metadata": {},
   "source": [
    "# Introduction to Data Science Tools and Languages"
   ]
  },
  {
   "cell_type": "markdown",
   "metadata": {},
   "source": [
    "## Introduction\n",
    "\n",
    "Welcome to this JupyterLite Notebook where we explore various data science tools and programming languages. In this notebook, I will run you through some basic essential libraries, languages, and tools commonly used in data science projects."
   ]
  },
  {
   "cell_type": "markdown",
   "metadata": {},
   "source": [
    "## Data Science Languages\n",
    "\n",
    "1. Python\n",
    "2. R\n",
    "3. SQL\n",
    "4. Julia\n",
    "5. MATLAB\n",
    "6. Java\n",
    "7. C++\n",
    "8. JavaScript\n",
    "9. Perl\n",
    "10. Go"
   ]
  },
  {
   "cell_type": "markdown",
   "metadata": {},
   "source": [
    "## Data Science Libraries\n",
    "\n",
    "These include commonly used libraries in Python:\n",
    "1. NumPy\n",
    "2. Pandas\n",
    "3. Matplotlib\n",
    "4. Seaborn\n",
    "5. Scikit-learn\n",
    "6. TensorFlow\n",
    "7. Keras\n",
    "8. PyTorch\n",
    "9. SciPy\n",
    "10. Plotly\n",
    "11. NLTK (Natural Language Toolkit)\n",
    "12. spaCy\n",
    "13. Joblib\n",
    "14. XGBboost"
   ]
  },
  {
   "cell_type": "markdown",
   "metadata": {},
   "source": [
    "## Data Science Tools\n",
    "\n",
    "This list includes a mix of integrated development environments (IDEs), machine learning libraries, data visualization tools, and comprehensive analytics platforms.\n",
    "\n",
    "| Tool         | Description                                |\n",
    "|--------------|--------------------------------------------|\n",
    "| JupyterLite  | Lightweight Jupyter environment in the browser |\n",
    "| RStudio      | An integrated development environment (IDE) for R, a programming language for statistical computing and graphics. |\n",
    "| TensorFlow            | An open-source library for machine learning and artificial intelligence.     |\n",
    "| IBM Watson Studio     | An integrated environment for data scientists, application developers, and subject matter experts to collaboratively and easily work with data. |\n",
    "| MATLAB                | A multi-paradigm numerical computing environment and proprietary programming language developed by MathWorks. |\n",
    "| Tableau               | An interactive data visualization software focused on business intelligence. |\n",
    "| Google Colab          | A free Jupyter notebook environment that runs entirely in the cloud.         |\n",
    "| GitHub       | Version control and collaboration platform |\n",
    "| VS Code      | Integrated Development Environment (IDE)   |\n",
    "| Tableau      | Data visualization and analytics tool      |"
   ]
  },
  {
   "cell_type": "markdown",
   "metadata": {},
   "source": [
    "## Arithmetic Expression Examples\n",
    "\n",
    "Now, let's explore some basic arithmetic operations in Python."
   ]
  },
  {
   "cell_type": "code",
   "execution_count": 1,
   "metadata": {
    "tags": []
   },
   "outputs": [
    {
     "data": {
      "text/plain": [
       "(15, 8)"
      ]
     },
     "execution_count": 1,
     "metadata": {},
     "output_type": "execute_result"
    }
   ],
   "source": [
    "# Multiply and add numbers\n",
    "a = 5\n",
    "b = 3\n",
    "multiply = a * b\n",
    "addition = a + b\n",
    "multiply, addition"
   ]
  },
  {
   "cell_type": "code",
   "execution_count": 2,
   "metadata": {
    "tags": []
   },
   "outputs": [
    {
     "data": {
      "text/plain": [
       "2.0"
      ]
     },
     "execution_count": 2,
     "metadata": {},
     "output_type": "execute_result"
    }
   ],
   "source": [
    "# Convert minutes to hours\n",
    "minutes = 120\n",
    "hours = minutes / 60\n",
    "hours"
   ]
  },
  {
   "cell_type": "markdown",
   "metadata": {},
   "source": [
    "## Objectives\n",
    "\n",
    "- Introduce fundamental data science languages and libraries.\n",
    "- Explore basic arithmetic operations in Python.\n",
    "- Demonstrate how to convert units (minutes to hours)."
   ]
  },
  {
   "cell_type": "markdown",
   "metadata": {},
   "source": [
    "## Author\n",
    "\n",
    "- Medha Reju Pillai"
   ]
  }
 ],
 "metadata": {
  "kernelspec": {
   "display_name": "Python",
   "language": "python",
   "name": "conda-env-python-py"
  },
  "language_info": {
   "codemirror_mode": {
    "name": "ipython",
    "version": 3
   },
   "file_extension": ".py",
   "mimetype": "text/x-python",
   "name": "python",
   "nbconvert_exporter": "python",
   "pygments_lexer": "ipython3",
   "version": "3.7.12"
  }
 },
 "nbformat": 4,
 "nbformat_minor": 4
}
